{
 "cells": [
  {
   "cell_type": "code",
   "execution_count": 17,
   "id": "fa3755f8",
   "metadata": {},
   "outputs": [],
   "source": [
    "import pandas as pd\n",
    "import numpy as np\n",
    "import seaborn as sns\n",
    "import matplotlib.pyplot as plt\n",
    "import scipy.stats as stats\n",
    "from numpy import mean\n",
    "from numpy import std\n",
    "import pickle\n",
    "\n",
    "from sklearn.model_selection import train_test_split\n",
    "from sklearn.preprocessing import OneHotEncoder\n",
    "from sklearn.preprocessing import LabelEncoder,StandardScaler\n",
    "from sklearn.model_selection import GridSearchCV,RandomizedSearchCV\n",
    "from sklearn.pipeline import Pipeline\n",
    "\n",
    "from sklearn.base import BaseEstimator, TransformerMixin\n",
    "\n",
    "from sklearn.model_selection import cross_val_score\n",
    "from sklearn.model_selection import RepeatedStratifiedKFold\n",
    "\n",
    "import xgboost as xgb\n",
    "from sklearn.svm import SVC\n",
    "from sklearn.linear_model import LogisticRegression\n",
    "from sklearn.ensemble import AdaBoostClassifier\n",
    "from sklearn.ensemble import RandomForestClassifier\n",
    "from sklearn.datasets import make_classification\n",
    "\n",
    "import sklearn.metrics as metrics\n",
    "from sklearn.metrics import confusion_matrix,accuracy_score,classification_report,roc_auc_score\n",
    "from sklearn.metrics import accuracy_score, precision_score, recall_score, f1_score\n",
    "from sklearn.metrics import mean_absolute_error,mean_squared_error,r2_score\n",
    "\n",
    "# extras\n",
    "import warnings\n",
    "warnings.filterwarnings('ignore')\n",
    "pd.set_option('display.max_columns', None)\n",
    "     "
   ]
  },
  {
   "cell_type": "code",
   "execution_count": 3,
   "id": "d00f49c7",
   "metadata": {},
   "outputs": [],
   "source": [
    "from feature_engine.outliers import Winsorizer\n",
    "from feature_engine.encoding import OneHotEncoder,OrdinalEncoder\n",
    "from feature_engine.imputation import DropMissingData\n",
    "from feature_engine.imputation import MeanMedianImputer,AddMissingIndicator,CategoricalImputer\n",
    "from feature_engine.transformation import LogTransformer"
   ]
  },
  {
   "cell_type": "code",
   "execution_count": 4,
   "id": "52d53204",
   "metadata": {},
   "outputs": [],
   "source": [
    "df=pd.read_csv(\"merge_yahooquery_wallstreet (1)\",parse_dates=['created_date'])"
   ]
  },
  {
   "cell_type": "code",
   "execution_count": 5,
   "id": "3c9dfe98",
   "metadata": {},
   "outputs": [],
   "source": [
    "df = df.drop(columns=['Unnamed: 0', 'Unnamed: 0.1', 'splits', 'dividends'], axis=1)"
   ]
  },
  {
   "cell_type": "code",
   "execution_count": 6,
   "id": "766b74de",
   "metadata": {},
   "outputs": [
    {
     "data": {
      "text/html": [
       "<div>\n",
       "<style scoped>\n",
       "    .dataframe tbody tr th:only-of-type {\n",
       "        vertical-align: middle;\n",
       "    }\n",
       "\n",
       "    .dataframe tbody tr th {\n",
       "        vertical-align: top;\n",
       "    }\n",
       "\n",
       "    .dataframe thead th {\n",
       "        text-align: right;\n",
       "    }\n",
       "</style>\n",
       "<table border=\"1\" class=\"dataframe\">\n",
       "  <thead>\n",
       "    <tr style=\"text-align: right;\">\n",
       "      <th></th>\n",
       "      <th>Ticker</th>\n",
       "      <th>open</th>\n",
       "      <th>low</th>\n",
       "      <th>close</th>\n",
       "      <th>volume</th>\n",
       "      <th>high</th>\n",
       "      <th>adjclose</th>\n",
       "      <th>created_date</th>\n",
       "      <th>Price</th>\n",
       "      <th>Price_Target</th>\n",
       "      <th>Consensus</th>\n",
       "    </tr>\n",
       "  </thead>\n",
       "  <tbody>\n",
       "    <tr>\n",
       "      <th>4161</th>\n",
       "      <td>PM</td>\n",
       "      <td>86.839996</td>\n",
       "      <td>85.970001</td>\n",
       "      <td>86.309998</td>\n",
       "      <td>3480800</td>\n",
       "      <td>87.339996</td>\n",
       "      <td>84.092880</td>\n",
       "      <td>2022-10-18</td>\n",
       "      <td>84.00</td>\n",
       "      <td>105.20</td>\n",
       "      <td>1.0</td>\n",
       "    </tr>\n",
       "    <tr>\n",
       "      <th>6351</th>\n",
       "      <td>SBUX</td>\n",
       "      <td>110.040001</td>\n",
       "      <td>108.000000</td>\n",
       "      <td>109.150002</td>\n",
       "      <td>9852900</td>\n",
       "      <td>110.830002</td>\n",
       "      <td>108.605797</td>\n",
       "      <td>2023-02-02</td>\n",
       "      <td>109.14</td>\n",
       "      <td>105.26</td>\n",
       "      <td>1.0</td>\n",
       "    </tr>\n",
       "  </tbody>\n",
       "</table>\n",
       "</div>"
      ],
      "text/plain": [
       "     Ticker        open         low       close   volume        high  \\\n",
       "4161     PM   86.839996   85.970001   86.309998  3480800   87.339996   \n",
       "6351   SBUX  110.040001  108.000000  109.150002  9852900  110.830002   \n",
       "\n",
       "        adjclose created_date   Price  Price_Target  Consensus  \n",
       "4161   84.092880   2022-10-18   84.00        105.20        1.0  \n",
       "6351  108.605797   2023-02-02  109.14        105.26        1.0  "
      ]
     },
     "execution_count": 6,
     "metadata": {},
     "output_type": "execute_result"
    }
   ],
   "source": [
    "df.sample(2)"
   ]
  },
  {
   "cell_type": "code",
   "execution_count": 7,
   "id": "a03f57f0",
   "metadata": {},
   "outputs": [
    {
     "name": "stdout",
     "output_type": "stream",
     "text": [
      "<class 'pandas.core.frame.DataFrame'>\n",
      "RangeIndex: 7223 entries, 0 to 7222\n",
      "Data columns (total 11 columns):\n",
      " #   Column        Non-Null Count  Dtype         \n",
      "---  ------        --------------  -----         \n",
      " 0   Ticker        7223 non-null   object        \n",
      " 1   open          7223 non-null   float64       \n",
      " 2   low           7223 non-null   float64       \n",
      " 3   close         7223 non-null   float64       \n",
      " 4   volume        7223 non-null   int64         \n",
      " 5   high          7223 non-null   float64       \n",
      " 6   adjclose      7223 non-null   float64       \n",
      " 7   created_date  7223 non-null   datetime64[ns]\n",
      " 8   Price         7223 non-null   float64       \n",
      " 9   Price_Target  6788 non-null   float64       \n",
      " 10  Consensus     7217 non-null   float64       \n",
      "dtypes: datetime64[ns](1), float64(8), int64(1), object(1)\n",
      "memory usage: 620.9+ KB\n"
     ]
    }
   ],
   "source": [
    "df.info()"
   ]
  },
  {
   "cell_type": "code",
   "execution_count": 8,
   "id": "5b62a602",
   "metadata": {},
   "outputs": [],
   "source": [
    "# Parent class\n",
    "class Test_handler():\n",
    "    \n",
    "  def cleanTest(self, df):  \n",
    "    \n",
    "#     df['Price'] = pd.to_numeric(df['Price'].replace({'$': '', 'nan': np.nan}), errors='coerce')\n",
    "\n",
    "    # check if 'Price' column contains 'nan' or '$' values\n",
    "    if 'nan' in df['Price'].values or '$' in df['Price'].values:\n",
    "        # replace 'nan' values with NaN\n",
    "        df['Price'] = df['Price'].replace('nan', np.nan)\n",
    "        # remove the '$' sign from the 'Price' column and convert to float\n",
    "        df['Price'] = df['Price'].str.replace('$', '').astype(float)\n",
    "    \n",
    "#     df['Price_Target'] =pd.to_numeric(df['Price_Target'].replace({'$': '', 'nan': np.nan}), errors='coerce')\n",
    "\n",
    "    # check if 'Price_Target' column contains 'nan' or '$' values\n",
    "    if 'nan' in df['Price_Target'].values or '$' in df['Price_Target'].values:\n",
    "        # replace 'nan' values with NaN\n",
    "        df['Price_Target'] = df['Price_Target'].replace('nan', np.nan)\n",
    "        # remove the '$' sign from the 'Price' column and convert to float\n",
    "        df['Price_Target'] = df['Price_Target'].str.replace('$', '').astype(float)\n",
    "        \n",
    "    # replace values in the 'Price_Target' column that contain 'k' with their numeric value in thousands\n",
    "    if 'Price_Target' in df.columns and df['Price_Target'].dtype == 'object':\n",
    "        df.loc[df['Price_Target'].str.contains('k', na=False, regex=True), 'Price_Target'] = df.loc[df['Price_Target'].str.contains('k', na=False, regex=True), 'Price_Target'].apply(lambda x: float(x.replace('k', '')) * 1000)\n",
    "\n",
    "    df['Price_Target'] = df['Price_Target'].astype(float)\n",
    "    \n",
    "    return df"
   ]
  },
  {
   "cell_type": "code",
   "execution_count": 9,
   "id": "a7d2fae7",
   "metadata": {},
   "outputs": [],
   "source": [
    "\n",
    "class ModelPipeline(Test_handler):\n",
    "    \n",
    "    def __init__(self):\n",
    "      self.__AddMissingIndicatorVariables = ['Price','Price_Target']\n",
    "      self.__MeanMedianImputerVarables = ['Price_Target']\n",
    "      self.__WinsorizerCappingVarables = ['open', 'low', 'close', 'volume', 'high', 'adjclose', 'Price', 'Price_Target']\n",
    "      self.__LogTransformerVarables = ['open', 'low', 'close', 'volume', 'high', 'adjclose', 'Price', 'Price_Target']\n",
    "      self.__OneHotEncoderVariables = ['Ticker']\n",
    "      \n",
    "\n",
    "      self.pipe = Pipeline([\n",
    "          \n",
    "          #  Missing indicator\n",
    "          ('Add missing indicator',AddMissingIndicator(\n",
    "            variables=self.__AddMissingIndicatorVariables)),\n",
    "    \n",
    "          #   Median Missing Imputation\n",
    "          ('Median Missing Imputation',MeanMedianImputer(\n",
    "            imputation_method='median', variables=self.__MeanMedianImputerVarables)),\n",
    "\n",
    "          #   Outlier Imputation\n",
    "          ('Winsorizer_CAPPING',Winsorizer(\n",
    "            capping_method='iqr', variables=self.__WinsorizerCappingVarables)),        \n",
    "\n",
    "          # Feature Transformation\n",
    "          ('LogTransformer',LogTransformer(\n",
    "            variables=self.__LogTransformerVarables)),\n",
    "\n",
    "          #  OneHotEncoder\n",
    "          ('OneHotEncoder',OneHotEncoder(\n",
    "            drop_last=True,variables=self.__OneHotEncoderVariables)),\n",
    "\n",
    "          # Model Train\n",
    "          ('Model', xgb.XGBClassifier(colsample_bytree=0.8, learning_rate=0.1, max_depth=5, n_estimators=200, subsample=0.8))\n",
    "      ])\n",
    "    \n",
    "    def handleData(self, df):\n",
    "        \n",
    "        df = super().cleanTest(df)  # call parent class's cleanTest() method       \n",
    "        df['created_date'] = pd.to_datetime(df['created_date'], format='%Y-%m-%d').astype('int64') // 10**9\n",
    "        df['Ticker'] = np.where(df['Ticker'].map(df['Ticker'].value_counts()) >= 10, df['Ticker'], 'Other')\n",
    "#         df = df.drop(columns=['Unnamed: 0', 'Unnamed: 0.1', 'splits', 'dividends'], axis=1).iloc[:, :]\n",
    "        df['Consensus'] = df['Consensus'].apply(lambda x: np.where(x == 'none', np.nan, x))\n",
    "        # df['Consensus'] = df['Consensus'].replace({'none': np.nan}).map({'Strong Buy': 0, 'Buy': 1, 'Hold': 2, 'Sell': 3, 'Strong Sell': 3}.get)\n",
    "        df = df.dropna(subset=['Consensus'])\n",
    "        return df\n",
    "    \n",
    "    def train(self, df):\n",
    "        df = self.handleData(df)\n",
    "\n",
    "        X_train, X_test, y_train, y_test = train_test_split(df.drop(columns=['Consensus']),\n",
    "                                                            df['Consensus'],\n",
    "                                                            test_size=0.2,\n",
    "                                                            random_state=44)\n",
    "\n",
    "        self.pipe.fit(X_train, y_train)\n",
    "    def predict(self, df):\n",
    "        df = super().cleanTest(df) # call parent class's cleanTest() method\n",
    "        df['created_date'] = pd.to_datetime(df['created_date'], format='%Y-%m-%d').astype('int64') // 10**9\n",
    "        df['Ticker'] = np.where(df['Ticker'].map(df['Ticker'].value_counts()) >= 10, df['Ticker'], 'Other')\n",
    "#         df['Consensus'] = np.nan # set the target column to nan\n",
    "#         X = self.pipe.transform(df)\n",
    "        y_pred = self.pipe.predict(df)\n",
    "        return y_pred"
   ]
  },
  {
   "cell_type": "code",
   "execution_count": 10,
   "id": "4acd7dcf",
   "metadata": {},
   "outputs": [],
   "source": [
    "model = ModelPipeline()\n",
    "model.train(df)"
   ]
  },
  {
   "cell_type": "code",
   "execution_count": 14,
   "id": "58ce0b5b",
   "metadata": {},
   "outputs": [
    {
     "data": {
      "text/plain": [
       "array([1, 0], dtype=int64)"
      ]
     },
     "execution_count": 14,
     "metadata": {},
     "output_type": "execute_result"
    }
   ],
   "source": [
    "model.predict(df1)"
   ]
  },
  {
   "cell_type": "code",
   "execution_count": 15,
   "id": "5dbe8a17",
   "metadata": {},
   "outputs": [
    {
     "name": "stdout",
     "output_type": "stream",
     "text": [
      "[1 0]\n"
     ]
    }
   ],
   "source": [
    "# make predictions on the test data\n",
    "predictions=model.predict(df1)\n",
    "\n",
    "# print the predictions\n",
    "print(predictions)"
   ]
  },
  {
   "cell_type": "code",
   "execution_count": 11,
   "id": "130cbc73",
   "metadata": {},
   "outputs": [
    {
     "data": {
      "text/html": [
       "<div>\n",
       "<style scoped>\n",
       "    .dataframe tbody tr th:only-of-type {\n",
       "        vertical-align: middle;\n",
       "    }\n",
       "\n",
       "    .dataframe tbody tr th {\n",
       "        vertical-align: top;\n",
       "    }\n",
       "\n",
       "    .dataframe thead th {\n",
       "        text-align: right;\n",
       "    }\n",
       "</style>\n",
       "<table border=\"1\" class=\"dataframe\">\n",
       "  <thead>\n",
       "    <tr style=\"text-align: right;\">\n",
       "      <th></th>\n",
       "      <th>Ticker</th>\n",
       "      <th>open</th>\n",
       "      <th>low</th>\n",
       "      <th>close</th>\n",
       "      <th>volume</th>\n",
       "      <th>high</th>\n",
       "      <th>adjclose</th>\n",
       "      <th>created_date</th>\n",
       "      <th>Price</th>\n",
       "      <th>Price_Target</th>\n",
       "      <th>Consensus</th>\n",
       "    </tr>\n",
       "  </thead>\n",
       "  <tbody>\n",
       "    <tr>\n",
       "      <th>6577</th>\n",
       "      <td>CAT</td>\n",
       "      <td>227.0</td>\n",
       "      <td>225.779999</td>\n",
       "      <td>228.979996</td>\n",
       "      <td>3044000</td>\n",
       "      <td>229.839996</td>\n",
       "      <td>227.893158</td>\n",
       "      <td>1670371200</td>\n",
       "      <td>228.29</td>\n",
       "      <td>222.42</td>\n",
       "      <td>1.0</td>\n",
       "    </tr>\n",
       "    <tr>\n",
       "      <th>9</th>\n",
       "      <td>AAPL</td>\n",
       "      <td>138.5</td>\n",
       "      <td>134.589996</td>\n",
       "      <td>134.869995</td>\n",
       "      <td>74917800</td>\n",
       "      <td>138.550003</td>\n",
       "      <td>134.664383</td>\n",
       "      <td>1667952000</td>\n",
       "      <td>139.50</td>\n",
       "      <td>182.59</td>\n",
       "      <td>0.0</td>\n",
       "    </tr>\n",
       "  </tbody>\n",
       "</table>\n",
       "</div>"
      ],
      "text/plain": [
       "     Ticker   open         low       close    volume        high    adjclose  \\\n",
       "6577    CAT  227.0  225.779999  228.979996   3044000  229.839996  227.893158   \n",
       "9      AAPL  138.5  134.589996  134.869995  74917800  138.550003  134.664383   \n",
       "\n",
       "      created_date   Price  Price_Target  Consensus  \n",
       "6577    1670371200  228.29        222.42        1.0  \n",
       "9       1667952000  139.50        182.59        0.0  "
      ]
     },
     "execution_count": 11,
     "metadata": {},
     "output_type": "execute_result"
    }
   ],
   "source": [
    "df1=df.iloc[[6577,9]]\n",
    "df1.sample(2)"
   ]
  },
  {
   "cell_type": "code",
   "execution_count": 12,
   "id": "1819d4fa",
   "metadata": {},
   "outputs": [],
   "source": [
    "df1 = df1.drop(columns=['Consensus'], axis=1)"
   ]
  },
  {
   "cell_type": "code",
   "execution_count": 13,
   "id": "411f7d89",
   "metadata": {},
   "outputs": [
    {
     "data": {
      "text/html": [
       "<div>\n",
       "<style scoped>\n",
       "    .dataframe tbody tr th:only-of-type {\n",
       "        vertical-align: middle;\n",
       "    }\n",
       "\n",
       "    .dataframe tbody tr th {\n",
       "        vertical-align: top;\n",
       "    }\n",
       "\n",
       "    .dataframe thead th {\n",
       "        text-align: right;\n",
       "    }\n",
       "</style>\n",
       "<table border=\"1\" class=\"dataframe\">\n",
       "  <thead>\n",
       "    <tr style=\"text-align: right;\">\n",
       "      <th></th>\n",
       "      <th>Ticker</th>\n",
       "      <th>open</th>\n",
       "      <th>low</th>\n",
       "      <th>close</th>\n",
       "      <th>volume</th>\n",
       "      <th>high</th>\n",
       "      <th>adjclose</th>\n",
       "      <th>created_date</th>\n",
       "      <th>Price</th>\n",
       "      <th>Price_Target</th>\n",
       "    </tr>\n",
       "  </thead>\n",
       "  <tbody>\n",
       "    <tr>\n",
       "      <th>6577</th>\n",
       "      <td>CAT</td>\n",
       "      <td>227.0</td>\n",
       "      <td>225.779999</td>\n",
       "      <td>228.979996</td>\n",
       "      <td>3044000</td>\n",
       "      <td>229.839996</td>\n",
       "      <td>227.893158</td>\n",
       "      <td>1670371200</td>\n",
       "      <td>228.29</td>\n",
       "      <td>222.42</td>\n",
       "    </tr>\n",
       "  </tbody>\n",
       "</table>\n",
       "</div>"
      ],
      "text/plain": [
       "     Ticker   open         low       close   volume        high    adjclose  \\\n",
       "6577    CAT  227.0  225.779999  228.979996  3044000  229.839996  227.893158   \n",
       "\n",
       "      created_date   Price  Price_Target  \n",
       "6577    1670371200  228.29        222.42  "
      ]
     },
     "execution_count": 13,
     "metadata": {},
     "output_type": "execute_result"
    }
   ],
   "source": [
    "df1.head(1)"
   ]
  },
  {
   "cell_type": "code",
   "execution_count": 18,
   "id": "4d587d7f",
   "metadata": {},
   "outputs": [],
   "source": [
    "# save model to pickle file\n",
    "with open('model1.pk1', 'wb') as f:\n",
    "    pickle.dump(model, f)"
   ]
  },
  {
   "cell_type": "code",
   "execution_count": 36,
   "id": "a304b75c",
   "metadata": {
    "collapsed": true
   },
   "outputs": [
    {
     "ename": "IndexError",
     "evalue": "only integers, slices (`:`), ellipsis (`...`), numpy.newaxis (`None`) and integer or boolean arrays are valid indices",
     "output_type": "error",
     "traceback": [
      "\u001b[1;31m---------------------------------------------------------------------------\u001b[0m",
      "\u001b[1;31mIndexError\u001b[0m                                Traceback (most recent call last)",
      "\u001b[1;32m~\\AppData\\Local\\Temp\\ipykernel_5148\\1660865719.py\u001b[0m in \u001b[0;36m<module>\u001b[1;34m\u001b[0m\n\u001b[0;32m      7\u001b[0m \u001b[1;33m\u001b[0m\u001b[0m\n\u001b[0;32m      8\u001b[0m \u001b[1;31m# make predictions on the data using the trained model\u001b[0m\u001b[1;33m\u001b[0m\u001b[1;33m\u001b[0m\u001b[0m\n\u001b[1;32m----> 9\u001b[1;33m \u001b[0mpredictions\u001b[0m \u001b[1;33m=\u001b[0m \u001b[0mmodel\u001b[0m\u001b[1;33m.\u001b[0m\u001b[0mpredict\u001b[0m\u001b[1;33m(\u001b[0m\u001b[0mdata\u001b[0m\u001b[1;33m[\u001b[0m\u001b[1;33m:\u001b[0m\u001b[1;33m,\u001b[0m \u001b[1;36m1\u001b[0m\u001b[1;33m:\u001b[0m\u001b[1;33m]\u001b[0m\u001b[1;33m)\u001b[0m\u001b[1;33m\u001b[0m\u001b[1;33m\u001b[0m\u001b[0m\n\u001b[0m\u001b[0;32m     10\u001b[0m \u001b[1;33m\u001b[0m\u001b[0m\n\u001b[0;32m     11\u001b[0m \u001b[1;31m# print the predictions\u001b[0m\u001b[1;33m\u001b[0m\u001b[1;33m\u001b[0m\u001b[0m\n",
      "\u001b[1;32m~\\AppData\\Local\\Temp\\ipykernel_5148\\258109465.py\u001b[0m in \u001b[0;36mpredict\u001b[1;34m(self, df)\u001b[0m\n\u001b[0;32m     60\u001b[0m         \u001b[0mself\u001b[0m\u001b[1;33m.\u001b[0m\u001b[0mpipe\u001b[0m\u001b[1;33m.\u001b[0m\u001b[0mfit\u001b[0m\u001b[1;33m(\u001b[0m\u001b[0mX_train\u001b[0m\u001b[1;33m,\u001b[0m \u001b[0my_train\u001b[0m\u001b[1;33m)\u001b[0m\u001b[1;33m\u001b[0m\u001b[1;33m\u001b[0m\u001b[0m\n\u001b[0;32m     61\u001b[0m     \u001b[1;32mdef\u001b[0m \u001b[0mpredict\u001b[0m\u001b[1;33m(\u001b[0m\u001b[0mself\u001b[0m\u001b[1;33m,\u001b[0m \u001b[0mdf\u001b[0m\u001b[1;33m)\u001b[0m\u001b[1;33m:\u001b[0m\u001b[1;33m\u001b[0m\u001b[1;33m\u001b[0m\u001b[0m\n\u001b[1;32m---> 62\u001b[1;33m         \u001b[0mdf\u001b[0m \u001b[1;33m=\u001b[0m \u001b[0msuper\u001b[0m\u001b[1;33m(\u001b[0m\u001b[1;33m)\u001b[0m\u001b[1;33m.\u001b[0m\u001b[0mcleanTest\u001b[0m\u001b[1;33m(\u001b[0m\u001b[0mdf\u001b[0m\u001b[1;33m)\u001b[0m \u001b[1;31m# call parent class's cleanTest() method\u001b[0m\u001b[1;33m\u001b[0m\u001b[1;33m\u001b[0m\u001b[0m\n\u001b[0m\u001b[0;32m     63\u001b[0m         \u001b[0mdf\u001b[0m\u001b[1;33m[\u001b[0m\u001b[1;34m'created_date'\u001b[0m\u001b[1;33m]\u001b[0m \u001b[1;33m=\u001b[0m \u001b[0mpd\u001b[0m\u001b[1;33m.\u001b[0m\u001b[0mto_datetime\u001b[0m\u001b[1;33m(\u001b[0m\u001b[0mdf\u001b[0m\u001b[1;33m[\u001b[0m\u001b[1;34m'created_date'\u001b[0m\u001b[1;33m]\u001b[0m\u001b[1;33m,\u001b[0m \u001b[0mformat\u001b[0m\u001b[1;33m=\u001b[0m\u001b[1;34m'%Y-%m-%d'\u001b[0m\u001b[1;33m)\u001b[0m\u001b[1;33m.\u001b[0m\u001b[0mastype\u001b[0m\u001b[1;33m(\u001b[0m\u001b[1;34m'int64'\u001b[0m\u001b[1;33m)\u001b[0m \u001b[1;33m//\u001b[0m \u001b[1;36m10\u001b[0m\u001b[1;33m**\u001b[0m\u001b[1;36m9\u001b[0m\u001b[1;33m\u001b[0m\u001b[1;33m\u001b[0m\u001b[0m\n\u001b[0;32m     64\u001b[0m         \u001b[0mdf\u001b[0m\u001b[1;33m[\u001b[0m\u001b[1;34m'Ticker'\u001b[0m\u001b[1;33m]\u001b[0m \u001b[1;33m=\u001b[0m \u001b[0mnp\u001b[0m\u001b[1;33m.\u001b[0m\u001b[0mwhere\u001b[0m\u001b[1;33m(\u001b[0m\u001b[0mdf\u001b[0m\u001b[1;33m[\u001b[0m\u001b[1;34m'Ticker'\u001b[0m\u001b[1;33m]\u001b[0m\u001b[1;33m.\u001b[0m\u001b[0mmap\u001b[0m\u001b[1;33m(\u001b[0m\u001b[0mdf\u001b[0m\u001b[1;33m[\u001b[0m\u001b[1;34m'Ticker'\u001b[0m\u001b[1;33m]\u001b[0m\u001b[1;33m.\u001b[0m\u001b[0mvalue_counts\u001b[0m\u001b[1;33m(\u001b[0m\u001b[1;33m)\u001b[0m\u001b[1;33m)\u001b[0m \u001b[1;33m>=\u001b[0m \u001b[1;36m10\u001b[0m\u001b[1;33m,\u001b[0m \u001b[0mdf\u001b[0m\u001b[1;33m[\u001b[0m\u001b[1;34m'Ticker'\u001b[0m\u001b[1;33m]\u001b[0m\u001b[1;33m,\u001b[0m \u001b[1;34m'Other'\u001b[0m\u001b[1;33m)\u001b[0m\u001b[1;33m\u001b[0m\u001b[1;33m\u001b[0m\u001b[0m\n",
      "\u001b[1;32m~\\AppData\\Local\\Temp\\ipykernel_5148\\459198469.py\u001b[0m in \u001b[0;36mcleanTest\u001b[1;34m(self, df)\u001b[0m\n\u001b[0;32m      3\u001b[0m \u001b[1;33m\u001b[0m\u001b[0m\n\u001b[0;32m      4\u001b[0m   \u001b[1;32mdef\u001b[0m \u001b[0mcleanTest\u001b[0m\u001b[1;33m(\u001b[0m\u001b[0mself\u001b[0m\u001b[1;33m,\u001b[0m \u001b[0mdf\u001b[0m\u001b[1;33m)\u001b[0m\u001b[1;33m:\u001b[0m\u001b[1;33m\u001b[0m\u001b[1;33m\u001b[0m\u001b[0m\n\u001b[1;32m----> 5\u001b[1;33m     \u001b[0mdf\u001b[0m\u001b[1;33m[\u001b[0m\u001b[1;34m'Price'\u001b[0m\u001b[1;33m]\u001b[0m \u001b[1;33m=\u001b[0m \u001b[0mpd\u001b[0m\u001b[1;33m.\u001b[0m\u001b[0mto_numeric\u001b[0m\u001b[1;33m(\u001b[0m\u001b[0mdf\u001b[0m\u001b[1;33m[\u001b[0m\u001b[1;34m'Price'\u001b[0m\u001b[1;33m]\u001b[0m\u001b[1;33m.\u001b[0m\u001b[0mreplace\u001b[0m\u001b[1;33m(\u001b[0m\u001b[1;33m{\u001b[0m\u001b[1;34m'$'\u001b[0m\u001b[1;33m:\u001b[0m \u001b[1;34m''\u001b[0m\u001b[1;33m,\u001b[0m \u001b[1;34m'nan'\u001b[0m\u001b[1;33m:\u001b[0m \u001b[0mnp\u001b[0m\u001b[1;33m.\u001b[0m\u001b[0mnan\u001b[0m\u001b[1;33m}\u001b[0m\u001b[1;33m)\u001b[0m\u001b[1;33m,\u001b[0m \u001b[0merrors\u001b[0m\u001b[1;33m=\u001b[0m\u001b[1;34m'coerce'\u001b[0m\u001b[1;33m)\u001b[0m\u001b[1;33m\u001b[0m\u001b[1;33m\u001b[0m\u001b[0m\n\u001b[0m\u001b[0;32m      6\u001b[0m \u001b[1;33m\u001b[0m\u001b[0m\n\u001b[0;32m      7\u001b[0m     \u001b[0mdf\u001b[0m\u001b[1;33m[\u001b[0m\u001b[1;34m'Price_Target'\u001b[0m\u001b[1;33m]\u001b[0m \u001b[1;33m=\u001b[0m\u001b[0mpd\u001b[0m\u001b[1;33m.\u001b[0m\u001b[0mto_numeric\u001b[0m\u001b[1;33m(\u001b[0m\u001b[0mdf\u001b[0m\u001b[1;33m[\u001b[0m\u001b[1;34m'Price_Target'\u001b[0m\u001b[1;33m]\u001b[0m\u001b[1;33m.\u001b[0m\u001b[0mreplace\u001b[0m\u001b[1;33m(\u001b[0m\u001b[1;33m{\u001b[0m\u001b[1;34m'$'\u001b[0m\u001b[1;33m:\u001b[0m \u001b[1;34m''\u001b[0m\u001b[1;33m,\u001b[0m \u001b[1;34m'nan'\u001b[0m\u001b[1;33m:\u001b[0m \u001b[0mnp\u001b[0m\u001b[1;33m.\u001b[0m\u001b[0mnan\u001b[0m\u001b[1;33m}\u001b[0m\u001b[1;33m)\u001b[0m\u001b[1;33m,\u001b[0m \u001b[0merrors\u001b[0m\u001b[1;33m=\u001b[0m\u001b[1;34m'coerce'\u001b[0m\u001b[1;33m)\u001b[0m\u001b[1;33m\u001b[0m\u001b[1;33m\u001b[0m\u001b[0m\n",
      "\u001b[1;31mIndexError\u001b[0m: only integers, slices (`:`), ellipsis (`...`), numpy.newaxis (`None`) and integer or boolean arrays are valid indices"
     ]
    }
   ],
   "source": [
    "# import numpy as np\n",
    "\n",
    "# # create a NumPy array with the data you want to predict on\n",
    "# data = np.array([\n",
    "#     [\"CAT\", 227.0, 225.779999, 228.979996, 3044000, 229.839996, 227.893158, 1670371200, 228.29, 222.42]\n",
    "# ])\n",
    "\n",
    "# # make predictions on the data using the trained model\n",
    "# predictions = model.predict(data[:, 1:])\n",
    "\n",
    "# # print the predictions\n",
    "# print(predictions)\n"
   ]
  },
  {
   "cell_type": "code",
   "execution_count": null,
   "id": "7dda0814",
   "metadata": {},
   "outputs": [],
   "source": []
  }
 ],
 "metadata": {
  "kernelspec": {
   "display_name": "Python 3 (ipykernel)",
   "language": "python",
   "name": "python3"
  },
  "language_info": {
   "codemirror_mode": {
    "name": "ipython",
    "version": 3
   },
   "file_extension": ".py",
   "mimetype": "text/x-python",
   "name": "python",
   "nbconvert_exporter": "python",
   "pygments_lexer": "ipython3",
   "version": "3.9.13"
  }
 },
 "nbformat": 4,
 "nbformat_minor": 5
}
