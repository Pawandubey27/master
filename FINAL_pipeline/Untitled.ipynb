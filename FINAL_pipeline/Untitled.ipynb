{
 "cells": [
  {
   "cell_type": "code",
   "execution_count": 6,
   "id": "56b7b517",
   "metadata": {},
   "outputs": [],
   "source": [
    "import pickle\n",
    "import pandas as pd\n",
    "\n",
    "from model import ModelPipeline\n",
    "\n",
    "\n",
    "# Pickle file ko load karna\n",
    "with open('model1.pk1', 'rb') as f:\n",
    "    loaded_model = pickle.load(f)\n",
    "\n",
    "# Load karne ke baad model ka upyog karein\n",
    "predicted_values = loaded_model.predict(df1)\n"
   ]
  },
  {
   "cell_type": "code",
   "execution_count": 7,
   "id": "f9ef2ea7",
   "metadata": {},
   "outputs": [
    {
     "data": {
      "text/plain": [
       "array([1, 0], dtype=int64)"
      ]
     },
     "execution_count": 7,
     "metadata": {},
     "output_type": "execute_result"
    }
   ],
   "source": [
    "predicted_values"
   ]
  },
  {
   "cell_type": "code",
   "execution_count": null,
   "id": "2bc1cd3a",
   "metadata": {},
   "outputs": [],
   "source": [
    "import pandas as pd"
   ]
  },
  {
   "cell_type": "code",
   "execution_count": 3,
   "id": "1405ab15",
   "metadata": {},
   "outputs": [],
   "source": [
    "df=pd.read_csv(\"merge_yahooquery_wallstreet (1)\",parse_dates=['created_date'])"
   ]
  },
  {
   "cell_type": "code",
   "execution_count": 4,
   "id": "8788934f",
   "metadata": {},
   "outputs": [
    {
     "data": {
      "text/html": [
       "<div>\n",
       "<style scoped>\n",
       "    .dataframe tbody tr th:only-of-type {\n",
       "        vertical-align: middle;\n",
       "    }\n",
       "\n",
       "    .dataframe tbody tr th {\n",
       "        vertical-align: top;\n",
       "    }\n",
       "\n",
       "    .dataframe thead th {\n",
       "        text-align: right;\n",
       "    }\n",
       "</style>\n",
       "<table border=\"1\" class=\"dataframe\">\n",
       "  <thead>\n",
       "    <tr style=\"text-align: right;\">\n",
       "      <th></th>\n",
       "      <th>Unnamed: 0.1</th>\n",
       "      <th>Unnamed: 0</th>\n",
       "      <th>Ticker</th>\n",
       "      <th>open</th>\n",
       "      <th>low</th>\n",
       "      <th>close</th>\n",
       "      <th>volume</th>\n",
       "      <th>high</th>\n",
       "      <th>adjclose</th>\n",
       "      <th>dividends</th>\n",
       "      <th>created_date</th>\n",
       "      <th>splits</th>\n",
       "      <th>Price</th>\n",
       "      <th>Price_Target</th>\n",
       "      <th>Consensus</th>\n",
       "    </tr>\n",
       "  </thead>\n",
       "  <tbody>\n",
       "    <tr>\n",
       "      <th>9</th>\n",
       "      <td>9</td>\n",
       "      <td>156</td>\n",
       "      <td>AAPL</td>\n",
       "      <td>138.5</td>\n",
       "      <td>134.589996</td>\n",
       "      <td>134.869995</td>\n",
       "      <td>74917800</td>\n",
       "      <td>138.550003</td>\n",
       "      <td>134.664383</td>\n",
       "      <td>0.0</td>\n",
       "      <td>2022-11-09</td>\n",
       "      <td>NaN</td>\n",
       "      <td>139.50</td>\n",
       "      <td>182.59</td>\n",
       "      <td>0.0</td>\n",
       "    </tr>\n",
       "    <tr>\n",
       "      <th>6577</th>\n",
       "      <td>6577</td>\n",
       "      <td>23107</td>\n",
       "      <td>CAT</td>\n",
       "      <td>227.0</td>\n",
       "      <td>225.779999</td>\n",
       "      <td>228.979996</td>\n",
       "      <td>3044000</td>\n",
       "      <td>229.839996</td>\n",
       "      <td>227.893158</td>\n",
       "      <td>0.0</td>\n",
       "      <td>2022-12-07</td>\n",
       "      <td>NaN</td>\n",
       "      <td>228.29</td>\n",
       "      <td>222.42</td>\n",
       "      <td>1.0</td>\n",
       "    </tr>\n",
       "  </tbody>\n",
       "</table>\n",
       "</div>"
      ],
      "text/plain": [
       "      Unnamed: 0.1  Unnamed: 0 Ticker   open         low       close  \\\n",
       "9                9         156   AAPL  138.5  134.589996  134.869995   \n",
       "6577          6577       23107    CAT  227.0  225.779999  228.979996   \n",
       "\n",
       "        volume        high    adjclose  dividends created_date  splits  \\\n",
       "9     74917800  138.550003  134.664383        0.0   2022-11-09     NaN   \n",
       "6577   3044000  229.839996  227.893158        0.0   2022-12-07     NaN   \n",
       "\n",
       "       Price  Price_Target  Consensus  \n",
       "9     139.50        182.59        0.0  \n",
       "6577  228.29        222.42        1.0  "
      ]
     },
     "execution_count": 4,
     "metadata": {},
     "output_type": "execute_result"
    }
   ],
   "source": [
    "df1=df.iloc[[6577,9]]\n",
    "df1.sample(2)"
   ]
  },
  {
   "cell_type": "code",
   "execution_count": 5,
   "id": "b1a495f0",
   "metadata": {},
   "outputs": [],
   "source": [
    "df1 = df1.drop(columns=['Unnamed: 0', 'Unnamed: 0.1', 'splits', 'dividends','Consensus'], axis=1)"
   ]
  },
  {
   "cell_type": "code",
   "execution_count": null,
   "id": "2b014181",
   "metadata": {},
   "outputs": [],
   "source": [
    "import pandas as pd\n",
    "df=pd.read_csv('model.csv')"
   ]
  },
  {
   "cell_type": "code",
   "execution_count": null,
   "id": "2bc15595",
   "metadata": {},
   "outputs": [],
   "source": [
    "df.sample(2)"
   ]
  },
  {
   "cell_type": "code",
   "execution_count": null,
   "id": "0d586898",
   "metadata": {},
   "outputs": [],
   "source": [
    "df = df.drop(columns=['Unnamed: 0', 'Unnamed: 0.1', 'splits', 'dividends'], axis=1)"
   ]
  },
  {
   "cell_type": "code",
   "execution_count": null,
   "id": "0abdeee3",
   "metadata": {},
   "outputs": [],
   "source": [
    "# df.to_csv('merge1.csv')"
   ]
  },
  {
   "cell_type": "code",
   "execution_count": null,
   "id": "3b0ad433",
   "metadata": {},
   "outputs": [],
   "source": [
    "unique_tickers = df['Ticker'].unique()"
   ]
  },
  {
   "cell_type": "code",
   "execution_count": null,
   "id": "8bf3ef7d",
   "metadata": {},
   "outputs": [],
   "source": [
    "result_df = pd.DataFrame({'Ticker': unique_tickers})"
   ]
  },
  {
   "cell_type": "code",
   "execution_count": null,
   "id": "ff1b171d",
   "metadata": {},
   "outputs": [],
   "source": [
    "unique_tickers = df['Ticker'].unique()\n",
    "\n",
    "result_df = pd.DataFrame({'Ticker': unique_tickers})\n",
    "\n",
    "for ticker in unique_tickers:\n",
    "    value = df.loc[df['Ticker'] == ticker, 'open'].iloc[0]\n",
    "    result_df.loc[result_df['Ticker'] == ticker, 'open'] = value\n"
   ]
  },
  {
   "cell_type": "code",
   "execution_count": null,
   "id": "d4ff0bc0",
   "metadata": {},
   "outputs": [],
   "source": [
    "result_df"
   ]
  },
  {
   "cell_type": "code",
   "execution_count": null,
   "id": "4782be39",
   "metadata": {},
   "outputs": [],
   "source": []
  }
 ],
 "metadata": {
  "kernelspec": {
   "display_name": "Python 3 (ipykernel)",
   "language": "python",
   "name": "python3"
  },
  "language_info": {
   "codemirror_mode": {
    "name": "ipython",
    "version": 3
   },
   "file_extension": ".py",
   "mimetype": "text/x-python",
   "name": "python",
   "nbconvert_exporter": "python",
   "pygments_lexer": "ipython3",
   "version": "3.9.13"
  }
 },
 "nbformat": 4,
 "nbformat_minor": 5
}
